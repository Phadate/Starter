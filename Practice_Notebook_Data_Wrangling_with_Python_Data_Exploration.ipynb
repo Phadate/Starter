{
  "nbformat": 4,
  "nbformat_minor": 0,
  "metadata": {
    "colab": {
      "name": "Practice Notebook: Data Wrangling with Python - Data Exploration",
      "provenance": [],
      "collapsed_sections": [
        "GJ-1GrU0DMlY",
        "o39LEL0PmKJa",
        "BMXTATeJmOGX",
        "jjWk6FgGmcFt",
        "uDUA4XhzmgeZ",
        "A1q9vDRyX6jf",
        "2gjU-yrmmo8I",
        "4eKKFvwwm0nk",
        "-2w3AIF3m7W7",
        "csNdeU7Rm-hc",
        "86v2T9OVb1OU"
      ],
      "toc_visible": true
    },
    "kernelspec": {
      "name": "python3",
      "display_name": "Python 3"
    }
  },
  "cells": [
    {
      "cell_type": "markdown",
      "metadata": {
        "id": "E0XQzSgQl3rZ",
        "colab_type": "text"
      },
      "source": [
        "<font color=\"blue\">To use this notebook on Colaboratory, you will need to make a copy of it. Go to File > Save a Copy in Drive. You can then use the new copy that will appear in the new tab.</font>\n"
      ]
    },
    {
      "cell_type": "markdown",
      "metadata": {
        "id": "_XzGFitQl60K",
        "colab_type": "text"
      },
      "source": [
        "# Practice Notebook: Data Wrangling with Python - Data Exploration"
      ]
    },
    {
      "cell_type": "markdown",
      "metadata": {
        "id": "8tAUAu98l-E6",
        "colab_type": "text"
      },
      "source": [
        "## 2. Data Exploration"
      ]
    },
    {
      "cell_type": "markdown",
      "metadata": {
        "id": "GJ-1GrU0DMlY",
        "colab_type": "text"
      },
      "source": [
        "#### <font color=\"blue\">Pre-requisites</font>"
      ]
    },
    {
      "cell_type": "code",
      "metadata": {
        "id": "CRg-76QzC0kX",
        "colab_type": "code",
        "colab": {}
      },
      "source": [
        "# Pre-requisite 1\n",
        "# ---\n",
        "# Importing pandas library\n",
        "# This will be the library that will help us explore our dataset\n",
        "# ---\n",
        "# OUR CODE GOES BELOW\n",
        "# \n",
        "import pandas as pd"
      ],
      "execution_count": 0,
      "outputs": []
    },
    {
      "cell_type": "code",
      "metadata": {
        "id": "dG5tALT2C7xZ",
        "colab_type": "code",
        "colab": {}
      },
      "source": [
        "# Pre-requisite 2\n",
        "# ---\n",
        "# Reading our dataset from the url\n",
        "# ---\n",
        "df = pd.read_csv('http://bit.ly/IrisDataset')"
      ],
      "execution_count": 0,
      "outputs": []
    },
    {
      "cell_type": "markdown",
      "metadata": {
        "id": "o39LEL0PmKJa",
        "colab_type": "text"
      },
      "source": [
        "#### <font color=\"blue\">Examples</font>"
      ]
    },
    {
      "cell_type": "markdown",
      "metadata": {
        "id": "BMXTATeJmOGX",
        "colab_type": "text"
      },
      "source": [
        "##### <font color=\"blue\">Example 1</font>"
      ]
    },
    {
      "cell_type": "code",
      "metadata": {
        "id": "Ql23JRMAlvv2",
        "colab_type": "code",
        "colab": {}
      },
      "source": [
        "# Example 1\n",
        "# ---\n",
        "# Determining the no. of records in the iris dataset above\n",
        "# NB: We will use the above loaded dataset\n",
        "# ---\n",
        "# OUR CODE GOES BELOW\n",
        "#\n",
        "\n",
        "# Shape returns no. or records/instances (left) and columns/variables (right)\n",
        "#\n",
        "df.shape"
      ],
      "execution_count": 0,
      "outputs": []
    },
    {
      "cell_type": "markdown",
      "metadata": {
        "id": "jjWk6FgGmcFt",
        "colab_type": "text"
      },
      "source": [
        "##### <font color=\"blue\">Example 2</font>"
      ]
    },
    {
      "cell_type": "code",
      "metadata": {
        "id": "7g_2_fG1md0X",
        "colab_type": "code",
        "colab": {}
      },
      "source": [
        "# Example 2\n",
        "# ---\n",
        "# Previewing the first few records/instances of df\n",
        "# NB: head() will give us the first five records/instances\n",
        "# ---\n",
        "# OUR CODE GOES BELOW\n",
        "# \n",
        "df.head()"
      ],
      "execution_count": 0,
      "outputs": []
    },
    {
      "cell_type": "markdown",
      "metadata": {
        "id": "uDUA4XhzmgeZ",
        "colab_type": "text"
      },
      "source": [
        "##### <font color=\"blue\">Example 3</font>"
      ]
    },
    {
      "cell_type": "code",
      "metadata": {
        "id": "xcFSIfhGmh3q",
        "colab_type": "code",
        "colab": {}
      },
      "source": [
        "# Example 3\n",
        "# ---\n",
        "# Previewing the last few records/instances of our dataset\n",
        "# NB: tail() gives us the last 5 records/instances\n",
        "# ---\n",
        "# OUR CODE GOES BELOW\n",
        "#\n",
        "df.tail()"
      ],
      "execution_count": 0,
      "outputs": []
    },
    {
      "cell_type": "markdown",
      "metadata": {
        "id": "A1q9vDRyX6jf",
        "colab_type": "text"
      },
      "source": [
        "##### <font color=\"blue\">Example 4</font>"
      ]
    },
    {
      "cell_type": "code",
      "metadata": {
        "id": "VK_vYe2cX7Q3",
        "colab_type": "code",
        "colab": {}
      },
      "source": [
        "# Example 4\n",
        "# ---\n",
        "# Checking the datatypes of df variables (columns)\n",
        "# ---\n",
        "# OUR CODE GOES BELOW\n",
        "#\n",
        "df.dtypes"
      ],
      "execution_count": 0,
      "outputs": []
    },
    {
      "cell_type": "markdown",
      "metadata": {
        "id": "2gjU-yrmmo8I",
        "colab_type": "text"
      },
      "source": [
        "#### <font color=\"green\">Challenges</font> "
      ]
    },
    {
      "cell_type": "code",
      "metadata": {
        "id": "6vwOo5DnbJJ3",
        "colab_type": "code",
        "colab": {}
      },
      "source": [
        "# Pre-requisite\n",
        "# ---\n",
        "# Load our cities dataset below\n",
        "# ---\n",
        "# Dataset url = Dataset url = http://bit.ly/CitiesDataset1\n",
        "# Hint: Load from local file\n",
        "# ---\n",
        "# OUR CODE GOES BELOW\n",
        "# \n"
      ],
      "execution_count": 0,
      "outputs": []
    },
    {
      "cell_type": "markdown",
      "metadata": {
        "id": "4eKKFvwwm0nk",
        "colab_type": "text"
      },
      "source": [
        "##### <font color=\"green\">Challenge 1</font>"
      ]
    },
    {
      "cell_type": "code",
      "metadata": {
        "id": "CJ-T2bNMm0AZ",
        "colab_type": "code",
        "colab": {}
      },
      "source": [
        "# Challenge 1\n",
        "# ---\n",
        "# Question: Determining the no. of records in the cities dataset\n",
        "# ---\n",
        "# \n",
        "OUR CODE GOES HERE"
      ],
      "execution_count": 0,
      "outputs": []
    },
    {
      "cell_type": "markdown",
      "metadata": {
        "id": "-2w3AIF3m7W7",
        "colab_type": "text"
      },
      "source": [
        "##### <font color=\"green\">Challenge 2</font>"
      ]
    },
    {
      "cell_type": "code",
      "metadata": {
        "id": "UGSOBG7im9Ch",
        "colab_type": "code",
        "colab": {}
      },
      "source": [
        "# Challenge 2\n",
        "# ---\n",
        "# Question: Preview the first few records of the cities dataset\n",
        "# ---\n",
        "# \n",
        "OUR CODE GOES HERE"
      ],
      "execution_count": 0,
      "outputs": []
    },
    {
      "cell_type": "markdown",
      "metadata": {
        "id": "csNdeU7Rm-hc",
        "colab_type": "text"
      },
      "source": [
        "##### <font color=\"green\">Challenge 3</font>"
      ]
    },
    {
      "cell_type": "code",
      "metadata": {
        "id": "kYnaKax4nAEN",
        "colab_type": "code",
        "colab": {}
      },
      "source": [
        "# Challenge 3\n",
        "# ---\n",
        "# Question: Preview the last few records of the cities dataset\n",
        "# ---\n",
        "# \n",
        "OUR CODE GOES HERE"
      ],
      "execution_count": 0,
      "outputs": []
    },
    {
      "cell_type": "markdown",
      "metadata": {
        "id": "86v2T9OVb1OU",
        "colab_type": "text"
      },
      "source": [
        "##### <font color=\"green\">Challenge 4</font>"
      ]
    },
    {
      "cell_type": "code",
      "metadata": {
        "id": "jManmrLZb4iu",
        "colab_type": "code",
        "colab": {}
      },
      "source": [
        "# Challenge 4\n",
        "# ---\n",
        "# Question: Check the datatypes of the cities dataset\n",
        "# ---\n",
        "# \n",
        "OUR CODE GOES HERE"
      ],
      "execution_count": 0,
      "outputs": []
    }
  ]
}